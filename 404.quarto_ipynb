{
  "cells": [
    {
      "cell_type": "markdown",
      "metadata": {},
      "source": [
        "---\n",
        "title: Page Not Found\n",
        "---\n",
        "\n",
        "\n",
        "\n",
        "\n",
        "The page you requested cannot be found (perhaps it was moved or renamed).\n",
        "\n",
        "You may want to try searching to find the page's new location.\n",
        "\n",
        "\n",
        "\n",
        "\n",
        "```{js}\n",
        "// Get the current URL\n",
        "let currentUrl = window.location.href;\n",
        "\n",
        "// Use regex to replace the specified part of the URL\n",
        "let newUrl = currentUrl.replace(/(\\/1)[^#]+(#[^]*)?$/, '$1-samplingdistr.html');\n",
        "\n",
        "// Redirect to the new URL\n",
        "if (currentUrl !== newUrl) {\n",
        "    window.location.replace(newUrl);\n",
        "}\n",
        "```"
      ],
      "id": "b98e30de"
    }
  ],
  "metadata": {
    "kernelspec": {
      "display_name": "Python 3",
      "language": "python",
      "name": "python3"
    }
  },
  "nbformat": 4,
  "nbformat_minor": 5
}